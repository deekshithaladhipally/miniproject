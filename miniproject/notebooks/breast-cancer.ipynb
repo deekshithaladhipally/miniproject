{
 "cells": [
  {
   "cell_type": "markdown",
   "id": "2fd11808",
   "metadata": {},
   "source": []
  },
  {
   "cell_type": "markdown",
   "id": "54e99d96",
   "metadata": {
    "_cell_guid": "b1076dfc-b9ad-4769-8c92-a6c4dae69d19",
    "_uuid": "8f2839f25d086af736a60e9eeb907d3b93b6e0e5",
    "papermill": {
     "duration": 0.06277,
     "end_time": "2021-05-27T10:16:38.749712",
     "exception": false,
     "start_time": "2021-05-27T10:16:38.686942",
     "status": "completed"
    },
    "tags": []
   },
   "source": [
    "# Breast Cancer Prediction"
   ]
  },
  {
   "cell_type": "markdown",
   "id": "8527215d",
   "metadata": {
    "papermill": {
     "duration": 0.06093,
     "end_time": "2021-05-27T10:16:38.997898",
     "exception": false,
     "start_time": "2021-05-27T10:16:38.936968",
     "status": "completed"
    },
    "tags": []
   },
   "source": [
    "##  Importing libraries"
   ]
  },
  {
   "cell_type": "code",
   "execution_count": null,
   "id": "d4c1c908",
   "metadata": {},
   "outputs": [],
   "source": [
    "import numpy as np\n",
    "import pandas as pd\n",
    "import sklearn.datasets\n",
    "from sklearn.model_selection import train_test_split\n",
    "from sklearn.svm import SVC\n",
    "from sklearn.metrics import accuracy_score\n",
    "\n",
    "# loading the data from sklearn\n",
    "breast_cancer_dataset = sklearn.datasets.load_breast_cancer()\n",
    "\n",
    "# loading the data to a data frame\n",
    "data_frame = pd.DataFrame(breast_cancer_dataset.data, columns=breast_cancer_dataset.feature_names)\n",
    "\n",
    "# adding the 'target' column to the data frame\n",
    "data_frame['label'] = breast_cancer_dataset.target\n",
    "\n",
    "# splitting the data and labels\n",
    "X = data_frame.drop(columns='label', axis=1)\n",
    "Y = data_frame['label']\n",
    "\n",
    "# splitting the data into training data and testing data\n",
    "X_train, X_test, Y_train, Y_test = train_test_split(X, Y, test_size=0.2, random_state=2)\n",
    "\n",
    "# creating the SVM model\n",
    "model = SVC(kernel='linear')\n",
    "\n",
    "# training the SVM model\n",
    "model.fit(X_train, Y_train)\n",
    "\n",
    "# accuracy on training data\n",
    "X_train_prediction = model.predict(X_train)\n",
    "training_data_accuracy = accuracy_score(Y_train, X_train_prediction)\n",
    "print('Accuracy on training data =', training_data_accuracy)\n",
    "\n",
    "# accuracy on test data\n",
    "X_test_prediction = model.predict(X_test)\n",
    "test_data_accuracy = accuracy_score(Y_test, X_test_prediction)\n",
    "print('Accuracy on test data =', test_data_accuracy)\n",
    "\n",
    "# making a predictive system\n",
    "input_data = (13.54, 14.36, 87.46, 566.3, 0.09779, 0.08129, 0.06664, 0.04781, 0.1885, 0.05766, 0.2699, 0.7886, 2.058, 23.56, 0.008462, 0.0146, 0.02387, 0.01315, 0.0198, 0.0023, 15.11, 19.26, 99.7, 711.2, 0.144, 0.1773, 0.239, 0.1288, 0.2977, 0.07259)\n",
    "\n",
    "# change the input data to a numpy array\n",
    "input_data_as_numpy_array = np.asarray(input_data)\n",
    "\n",
    "# reshape the numpy array as we are predicting for one datapoint\n",
    "input_data_reshaped = input_data_as_numpy_array.reshape(1, -1)\n",
    "\n",
    "prediction = model.predict(input_data_reshaped)\n",
    "print(prediction)\n",
    "\n",
    "if prediction[0] == 0:\n",
    "    print('The Breast cancer is Malignant')\n",
    "else:\n",
    "    print('The Breast Cancer is Benign')\n"
   ]
  }
 ],
 "metadata": {
  "kernelspec": {
   "display_name": "Python 3",
   "language": "python",
   "name": "python3"
  },
  "language_info": {
   "codemirror_mode": {
    "name": "ipython",
    "version": 3
   },
   "file_extension": ".py",
   "mimetype": "text/x-python",
   "name": "python",
   "nbconvert_exporter": "python",
   "pygments_lexer": "ipython3",
   "version": "3.10.4"
  },
  "papermill": {
   "default_parameters": {},
   "duration": 139.152124,
   "end_time": "2021-05-27T10:18:49.215547",
   "environment_variables": {},
   "exception": null,
   "input_path": "__notebook__.ipynb",
   "output_path": "__notebook__.ipynb",
   "parameters": {},
   "start_time": "2021-05-27T10:16:30.063423",
   "version": "2.3.3"
  }
 },
 "nbformat": 4,
 "nbformat_minor": 5
}
